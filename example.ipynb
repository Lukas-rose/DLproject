{
  "nbformat": 4,
  "nbformat_minor": 0,
  "metadata": {
    "colab": {
      "name": "example.ipynb",
      "provenance": [],
      "collapsed_sections": [],
      "authorship_tag": "ABX9TyOWrUbHTp6en5YFtVJ/URdc",
      "include_colab_link": true
    },
    "kernelspec": {
      "name": "python3",
      "display_name": "Python 3"
    }
  },
  "cells": [
    {
      "cell_type": "markdown",
      "metadata": {
        "id": "view-in-github",
        "colab_type": "text"
      },
      "source": [
        "<a href=\"https://colab.research.google.com/github/prunprun/DLproject/blob/master/example.ipynb\" target=\"_parent\"><img src=\"https://colab.research.google.com/assets/colab-badge.svg\" alt=\"Open In Colab\"/></a>"
      ]
    },
    {
      "cell_type": "code",
      "metadata": {
        "id": "QjlHJIVbauIi",
        "colab_type": "code",
        "colab": {}
      },
      "source": [
        "# repo runterladen\n",
        "!pip install -q xlrd\n",
        "!git clone https://github.com/prunprun/DLproject.git\n",
        "%cd DLproject/"
      ],
      "execution_count": null,
      "outputs": []
    },
    {
      "cell_type": "code",
      "metadata": {
        "id": "UpOmIpKUb0lv",
        "colab_type": "code",
        "colab": {}
      },
      "source": [
        "# updaten\n",
        "!ls\n",
        "!git pull"
      ],
      "execution_count": null,
      "outputs": []
    },
    {
      "cell_type": "code",
      "metadata": {
        "id": "6DSqkj07b-33",
        "colab_type": "code",
        "colab": {}
      },
      "source": [
        "# ausführen\n",
        "! python context_encoder.py"
      ],
      "execution_count": null,
      "outputs": []
    },
    {
      "cell_type": "code",
      "metadata": {
        "id": "v0wRCUmKnhIT",
        "colab_type": "code",
        "colab": {}
      },
      "source": [
        "# geänderete datein anschauen\n",
        "!git status"
      ],
      "execution_count": null,
      "outputs": []
    },
    {
      "cell_type": "code",
      "metadata": {
        "id": "1BbqRtVlnlT0",
        "colab_type": "code",
        "colab": {}
      },
      "source": [
        "# commit erstellen und pushen\n",
        "!git add <file>\n",
        "!git commit -m \"<text>\"\n",
        "#!git remote rm origin\n",
        "#!git remote add origin https://<username>:<password>@github.com/prunprun/DLproject.git\n",
        "!git push origin master"
      ],
      "execution_count": 11,
      "outputs": []
    }
  ]
}